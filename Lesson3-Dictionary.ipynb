{
 "cells": [
  {
   "cell_type": "markdown",
   "id": "f72454ff-1908-4ffa-ab59-62956ce5e2d7",
   "metadata": {},
   "source": [
    "# Create Dictionary"
   ]
  },
  {
   "cell_type": "markdown",
   "id": "3a0a75c3-3655-497f-b95c-55dabc2fdd1f",
   "metadata": {},
   "source": [
    " - Ordered\n",
    " - changeable\n",
    " - NO duplicates\n",
    " - dict can have items that are of diff data types\n"
   ]
  },
  {
   "cell_type": "code",
   "execution_count": 15,
   "id": "ac8330a6-41ee-491a-a931-58f9da5d4d52",
   "metadata": {},
   "outputs": [],
   "source": [
    "raja_rani_dictionary = {\"raja\" : 1000,\n",
    "                       \"rani\" : 500,\n",
    "                       \"mandiri\" : 200,\n",
    "                       \"rani\": 600,\n",
    "                       \"thirudan\": [0,0,0,0]}"
   ]
  },
  {
   "cell_type": "code",
   "execution_count": 16,
   "id": "25e88208-2189-42ff-8e5a-7f1c166ff3fc",
   "metadata": {},
   "outputs": [
    {
     "data": {
      "text/plain": [
       "{'raja': 1000, 'rani': 600, 'mandiri': 200, 'thirudan': [0, 0, 0, 0]}"
      ]
     },
     "execution_count": 16,
     "metadata": {},
     "output_type": "execute_result"
    }
   ],
   "source": [
    "raja_rani_dictionary"
   ]
  },
  {
   "cell_type": "code",
   "execution_count": 11,
   "id": "6d0781cf-f752-4eda-84e7-a77b644c2386",
   "metadata": {},
   "outputs": [],
   "source": [
    "raja_rani_dictionary['rani'] = 10000"
   ]
  },
  {
   "cell_type": "markdown",
   "id": "3ceea04c-e502-4f94-9814-cff77a0e7114",
   "metadata": {},
   "source": [
    "# Dictionary Accessing"
   ]
  },
  {
   "cell_type": "markdown",
   "id": "48be8c93-200d-458b-a1b3-0b8e6b43a393",
   "metadata": {},
   "source": [
    "- using keys\n",
    "- using .get(key)\n",
    "- .values()\n",
    "- .items()"
   ]
  },
  {
   "cell_type": "code",
   "execution_count": 17,
   "id": "23bfa08f-1732-4089-8b61-40ab01a25f55",
   "metadata": {},
   "outputs": [
    {
     "data": {
      "text/plain": [
       "dict_keys(['raja', 'rani', 'mandiri', 'thirudan'])"
      ]
     },
     "execution_count": 17,
     "metadata": {},
     "output_type": "execute_result"
    }
   ],
   "source": [
    "raja_rani_dictionary. keys()"
   ]
  },
  {
   "cell_type": "code",
   "execution_count": 18,
   "id": "d97dd78a-b497-48a8-a683-ef403a12146e",
   "metadata": {},
   "outputs": [
    {
     "data": {
      "text/plain": [
       "dict_values([1000, 600, 200, [0, 0, 0, 0]])"
      ]
     },
     "execution_count": 18,
     "metadata": {},
     "output_type": "execute_result"
    }
   ],
   "source": [
    "raja_rani_dictionary.values()"
   ]
  },
  {
   "cell_type": "code",
   "execution_count": 19,
   "id": "943b94c3-c199-4b19-9b93-e32c7cf606de",
   "metadata": {},
   "outputs": [
    {
     "data": {
      "text/plain": [
       "dict_items([('raja', 1000), ('rani', 600), ('mandiri', 200), ('thirudan', [0, 0, 0, 0])])"
      ]
     },
     "execution_count": 19,
     "metadata": {},
     "output_type": "execute_result"
    }
   ],
   "source": [
    "raja_rani_dictionary.items()"
   ]
  },
  {
   "cell_type": "code",
   "execution_count": 21,
   "id": "10ff6ff4-fdee-4650-9d84-d4cb6a8d13b8",
   "metadata": {},
   "outputs": [],
   "source": [
    "raja_rani_dictionary.get('dog')"
   ]
  },
  {
   "cell_type": "code",
   "execution_count": 22,
   "id": "7432e314-d7d0-4bd7-88ca-efb98812b17a",
   "metadata": {},
   "outputs": [
    {
     "ename": "KeyError",
     "evalue": "'dog'",
     "output_type": "error",
     "traceback": [
      "\u001b[1;31m---------------------------------------------------------------------------\u001b[0m",
      "\u001b[1;31mKeyError\u001b[0m                                  Traceback (most recent call last)",
      "Cell \u001b[1;32mIn[22], line 1\u001b[0m\n\u001b[1;32m----> 1\u001b[0m \u001b[43mraja_rani_dictionary\u001b[49m\u001b[43m[\u001b[49m\u001b[38;5;124;43m'\u001b[39;49m\u001b[38;5;124;43mdog\u001b[39;49m\u001b[38;5;124;43m'\u001b[39;49m\u001b[43m]\u001b[49m\n",
      "\u001b[1;31mKeyError\u001b[0m: 'dog'"
     ]
    }
   ],
   "source": [
    "raja_rani_dictionary['dog']"
   ]
  },
  {
   "cell_type": "markdown",
   "id": "58ba4980-3431-4652-8902-e20e89362b70",
   "metadata": {},
   "source": [
    "# Add new items"
   ]
  },
  {
   "cell_type": "markdown",
   "id": "90c18dbb-ae94-4dfe-9882-89aa605773f6",
   "metadata": {},
   "source": [
    "- use keys, update()"
   ]
  },
  {
   "cell_type": "code",
   "execution_count": 23,
   "id": "d7ccbc68-a9bd-40e8-99ca-d3a8af9d2087",
   "metadata": {},
   "outputs": [
    {
     "data": {
      "text/plain": [
       "{'raja': 1000, 'rani': 600, 'mandiri': 200, 'thirudan': [0, 0, 0, 0]}"
      ]
     },
     "execution_count": 23,
     "metadata": {},
     "output_type": "execute_result"
    }
   ],
   "source": [
    "raja_rani_dictionary"
   ]
  },
  {
   "cell_type": "code",
   "execution_count": 24,
   "id": "428bab5d-e63d-4366-8e19-b54b1e61efb4",
   "metadata": {},
   "outputs": [],
   "source": [
    "raja_rani_dictionary['police'] = 100"
   ]
  },
  {
   "cell_type": "code",
   "execution_count": 25,
   "id": "f998e3be-224c-4f9f-944d-6df17e7b5d1e",
   "metadata": {},
   "outputs": [
    {
     "data": {
      "text/plain": [
       "{'raja': 1000,\n",
       " 'rani': 600,\n",
       " 'mandiri': 200,\n",
       " 'thirudan': [0, 0, 0, 0],\n",
       " 'police': 100}"
      ]
     },
     "execution_count": 25,
     "metadata": {},
     "output_type": "execute_result"
    }
   ],
   "source": [
    "raja_rani_dictionary"
   ]
  },
  {
   "cell_type": "code",
   "execution_count": 37,
   "id": "a41f3b3a-48a5-44c7-8799-38b71ce2a897",
   "metadata": {},
   "outputs": [],
   "source": [
    "raja_rani_dictionary.update({'sippai': 150})"
   ]
  },
  {
   "cell_type": "code",
   "execution_count": 38,
   "id": "daf8cc69-457c-4e11-b77e-6af1feb0e8c5",
   "metadata": {},
   "outputs": [
    {
     "data": {
      "text/plain": [
       "{'raja': 1000,\n",
       " 'rani': 600,\n",
       " 'mandiri': 200,\n",
       " 'thirudan': [0, 0, 0, 0],\n",
       " 'police': 100,\n",
       " 'sippai': 150}"
      ]
     },
     "execution_count": 38,
     "metadata": {},
     "output_type": "execute_result"
    }
   ],
   "source": [
    "raja_rani_dictionary"
   ]
  },
  {
   "cell_type": "markdown",
   "id": "70f6f084-918e-4370-8dec-9dde0542c446",
   "metadata": {},
   "source": [
    "# Remove old items"
   ]
  },
  {
   "cell_type": "markdown",
   "id": "57548d9c-e19a-4b71-a48a-ecdf39c2d4f7",
   "metadata": {},
   "source": [
    "- pop(key), popitem(), del, clear()"
   ]
  },
  {
   "cell_type": "code",
   "execution_count": 39,
   "id": "994ca75a-3587-4a54-b85f-a56c6eb60745",
   "metadata": {},
   "outputs": [
    {
     "data": {
      "text/plain": [
       "[0, 0, 0, 0]"
      ]
     },
     "execution_count": 39,
     "metadata": {},
     "output_type": "execute_result"
    }
   ],
   "source": [
    "raja_rani_dictionary.pop('thirudan')"
   ]
  },
  {
   "cell_type": "code",
   "execution_count": 40,
   "id": "076d70cb-f06a-414e-853b-3034613de5ca",
   "metadata": {},
   "outputs": [
    {
     "data": {
      "text/plain": [
       "{'raja': 1000, 'rani': 600, 'mandiri': 200, 'police': 100, 'sippai': 150}"
      ]
     },
     "execution_count": 40,
     "metadata": {},
     "output_type": "execute_result"
    }
   ],
   "source": [
    "raja_rani_dictionary"
   ]
  },
  {
   "cell_type": "code",
   "execution_count": 43,
   "id": "234dcefe-5916-4a68-9001-050761853a3c",
   "metadata": {},
   "outputs": [
    {
     "data": {
      "text/plain": [
       "('police', 100)"
      ]
     },
     "execution_count": 43,
     "metadata": {},
     "output_type": "execute_result"
    }
   ],
   "source": [
    "raja_rani_dictionary.popitem()"
   ]
  },
  {
   "cell_type": "code",
   "execution_count": 44,
   "id": "24d9431d-50b0-4719-951f-86213db35b09",
   "metadata": {},
   "outputs": [
    {
     "data": {
      "text/plain": [
       "{'raja': 1000, 'rani': 600, 'mandiri': 200}"
      ]
     },
     "execution_count": 44,
     "metadata": {},
     "output_type": "execute_result"
    }
   ],
   "source": [
    "raja_rani_dictionary"
   ]
  },
  {
   "cell_type": "code",
   "execution_count": 45,
   "id": "f7a25cfe-c420-49d1-8b35-70ee39c27c84",
   "metadata": {},
   "outputs": [],
   "source": [
    "raja_rani_dictionary.clear()"
   ]
  },
  {
   "cell_type": "code",
   "execution_count": 46,
   "id": "840dae4b-13b6-44b1-8768-d3b461289c63",
   "metadata": {},
   "outputs": [
    {
     "data": {
      "text/plain": [
       "{}"
      ]
     },
     "execution_count": 46,
     "metadata": {},
     "output_type": "execute_result"
    }
   ],
   "source": [
    "raja_rani_dictionary"
   ]
  },
  {
   "cell_type": "code",
   "execution_count": 47,
   "id": "7c415630-9c6d-4e09-bc64-5acc3ac93bf6",
   "metadata": {},
   "outputs": [],
   "source": [
    "del raja_rani_dictionary"
   ]
  },
  {
   "cell_type": "code",
   "execution_count": 48,
   "id": "51315748-b8f4-47a9-a1a0-676dc333e602",
   "metadata": {},
   "outputs": [
    {
     "ename": "NameError",
     "evalue": "name 'raja_rani_dictionary' is not defined",
     "output_type": "error",
     "traceback": [
      "\u001b[1;31m---------------------------------------------------------------------------\u001b[0m",
      "\u001b[1;31mNameError\u001b[0m                                 Traceback (most recent call last)",
      "Cell \u001b[1;32mIn[48], line 1\u001b[0m\n\u001b[1;32m----> 1\u001b[0m \u001b[43mraja_rani_dictionary\u001b[49m\n",
      "\u001b[1;31mNameError\u001b[0m: name 'raja_rani_dictionary' is not defined"
     ]
    }
   ],
   "source": [
    "raja_rani_dictionary"
   ]
  },
  {
   "cell_type": "markdown",
   "id": "bbf5409f-c2f4-4a21-8ed3-14733b49cc3b",
   "metadata": {},
   "source": [
    "# Additional Methods - Nothing Much"
   ]
  },
  {
   "cell_type": "markdown",
   "id": "08a9a748-68a3-4bde-9517-0829100e62c8",
   "metadata": {},
   "source": [
    "- count, copy, reverse, sort"
   ]
  },
  {
   "cell_type": "code",
   "execution_count": null,
   "id": "c98971ba-f2c6-4a8c-9346-697c9e6af264",
   "metadata": {},
   "outputs": [],
   "source": []
  },
  {
   "cell_type": "code",
   "execution_count": null,
   "id": "6d8a509f-6cb6-430f-8de3-21e38780ee76",
   "metadata": {},
   "outputs": [],
   "source": []
  },
  {
   "cell_type": "markdown",
   "id": "edad9db1-6c1e-4f95-8b45-98ce91c4e714",
   "metadata": {},
   "source": [
    "# Dictionary Loops"
   ]
  },
  {
   "cell_type": "markdown",
   "id": "455a57ff-a753-40ba-9e3c-8ff7788432d5",
   "metadata": {},
   "source": [
    "- keys(), items(), values()"
   ]
  },
  {
   "cell_type": "code",
   "execution_count": null,
   "id": "2002c54d-e6e8-452b-8af6-a566efba37e7",
   "metadata": {},
   "outputs": [],
   "source": []
  }
 ],
 "metadata": {
  "kernelspec": {
   "display_name": "Python 3 (ipykernel)",
   "language": "python",
   "name": "python3"
  },
  "language_info": {
   "codemirror_mode": {
    "name": "ipython",
    "version": 3
   },
   "file_extension": ".py",
   "mimetype": "text/x-python",
   "name": "python",
   "nbconvert_exporter": "python",
   "pygments_lexer": "ipython3",
   "version": "3.10.14"
  }
 },
 "nbformat": 4,
 "nbformat_minor": 5
}
