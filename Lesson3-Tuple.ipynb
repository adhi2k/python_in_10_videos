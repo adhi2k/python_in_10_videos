{
 "cells": [
  {
   "cell_type": "markdown",
   "id": "f72454ff-1908-4ffa-ab59-62956ce5e2d7",
   "metadata": {},
   "source": [
    "# Create Tuple"
   ]
  },
  {
   "cell_type": "markdown",
   "id": "3a0a75c3-3655-497f-b95c-55dabc2fdd1f",
   "metadata": {},
   "source": [
    " - Ordered\n",
    " - UN changeable\n",
    " - Allows duplicates\n",
    " - tuple can have items that are of diff data types\n"
   ]
  },
  {
   "cell_type": "code",
   "execution_count": 8,
   "id": "6897d328-74c6-4822-b1a8-5f62e96fd83e",
   "metadata": {},
   "outputs": [],
   "source": [
    "roles = ('raja', 'rani', 'mandiri','soldier','police', 'thirudan', 'raja', 123, False, 1000.00)"
   ]
  },
  {
   "cell_type": "code",
   "execution_count": 9,
   "id": "c891f5f1-7c2e-494f-9324-f6927e8ba170",
   "metadata": {},
   "outputs": [
    {
     "data": {
      "text/plain": [
       "('raja',\n",
       " 'rani',\n",
       " 'mandiri',\n",
       " 'soldier',\n",
       " 'police',\n",
       " 'thirudan',\n",
       " 'raja',\n",
       " 123,\n",
       " False,\n",
       " 1000.0)"
      ]
     },
     "execution_count": 9,
     "metadata": {},
     "output_type": "execute_result"
    }
   ],
   "source": [
    "roles"
   ]
  },
  {
   "cell_type": "code",
   "execution_count": 2,
   "id": "c75396e6-f7ec-462a-a035-26927ba9bbd4",
   "metadata": {},
   "outputs": [
    {
     "data": {
      "text/plain": [
       "tuple"
      ]
     },
     "execution_count": 2,
     "metadata": {},
     "output_type": "execute_result"
    }
   ],
   "source": [
    "type(roles)"
   ]
  },
  {
   "cell_type": "code",
   "execution_count": 3,
   "id": "81e8c2bc-7c47-4f0e-aff7-f9b6acd398d2",
   "metadata": {},
   "outputs": [],
   "source": [
    "roles_constructor = tuple(('raja', 'rani', 'mandiri','soldier','police', 'thirudan'))"
   ]
  },
  {
   "cell_type": "code",
   "execution_count": 4,
   "id": "9861882d-49b2-424a-96c2-3120606e55fc",
   "metadata": {},
   "outputs": [
    {
     "data": {
      "text/plain": [
       "('raja', 'rani', 'mandiri', 'soldier', 'police', 'thirudan')"
      ]
     },
     "execution_count": 4,
     "metadata": {},
     "output_type": "execute_result"
    }
   ],
   "source": [
    "roles_constructor"
   ]
  },
  {
   "cell_type": "code",
   "execution_count": 5,
   "id": "06faf2a5-ad33-4fbb-9357-7a75862797a8",
   "metadata": {},
   "outputs": [
    {
     "data": {
      "text/plain": [
       "tuple"
      ]
     },
     "execution_count": 5,
     "metadata": {},
     "output_type": "execute_result"
    }
   ],
   "source": [
    "type(roles_constructor)"
   ]
  },
  {
   "cell_type": "markdown",
   "id": "3ceea04c-e502-4f94-9814-cff77a0e7114",
   "metadata": {},
   "source": [
    "# Tuple Accessing"
   ]
  },
  {
   "cell_type": "markdown",
   "id": "48be8c93-200d-458b-a1b3-0b8e6b43a393",
   "metadata": {},
   "source": [
    "- using index & negative index\n",
    "- using slice"
   ]
  },
  {
   "cell_type": "code",
   "execution_count": 10,
   "id": "41eeeb62-6793-42d9-bbda-6bcebeb90b76",
   "metadata": {},
   "outputs": [],
   "source": [
    "roles = ('raja', 'rani', 'mandiri','soldier','police', 'thirudan', 'raja', 123, False, 1000.00)"
   ]
  },
  {
   "cell_type": "code",
   "execution_count": 12,
   "id": "09695c3e-d489-4abd-a3a8-2b81a239eac7",
   "metadata": {},
   "outputs": [
    {
     "data": {
      "text/plain": [
       "1000.0"
      ]
     },
     "execution_count": 12,
     "metadata": {},
     "output_type": "execute_result"
    }
   ],
   "source": [
    "roles[-1]"
   ]
  },
  {
   "cell_type": "code",
   "execution_count": 13,
   "id": "cd6ff98b-341d-4c0d-9bc2-35a95ff3e66a",
   "metadata": {},
   "outputs": [
    {
     "data": {
      "text/plain": [
       "('raja', 'rani')"
      ]
     },
     "execution_count": 13,
     "metadata": {},
     "output_type": "execute_result"
    }
   ],
   "source": [
    "roles[0:2:1]"
   ]
  },
  {
   "cell_type": "markdown",
   "id": "58ba4980-3431-4652-8902-e20e89362b70",
   "metadata": {},
   "source": [
    "# Add new items - NOT POSSIBLE "
   ]
  },
  {
   "cell_type": "code",
   "execution_count": 14,
   "id": "387a875a-eeb5-479c-a2aa-1ecea8cb4bf2",
   "metadata": {},
   "outputs": [],
   "source": [
    "roles_list = list(roles) "
   ]
  },
  {
   "cell_type": "code",
   "execution_count": 15,
   "id": "0a58e579-a966-463e-ab61-761acfa60c10",
   "metadata": {},
   "outputs": [
    {
     "data": {
      "text/plain": [
       "['raja',\n",
       " 'rani',\n",
       " 'mandiri',\n",
       " 'soldier',\n",
       " 'police',\n",
       " 'thirudan',\n",
       " 'raja',\n",
       " 123,\n",
       " False,\n",
       " 1000.0]"
      ]
     },
     "execution_count": 15,
     "metadata": {},
     "output_type": "execute_result"
    }
   ],
   "source": [
    "roles_list"
   ]
  },
  {
   "cell_type": "code",
   "execution_count": 16,
   "id": "47f2315d-f75c-434b-8278-a2481cdc6168",
   "metadata": {},
   "outputs": [],
   "source": [
    "roles_list.append(\"new\")"
   ]
  },
  {
   "cell_type": "code",
   "execution_count": 17,
   "id": "7ff80225-1867-40b7-aad3-5b151526d15f",
   "metadata": {},
   "outputs": [
    {
     "data": {
      "text/plain": [
       "['raja',\n",
       " 'rani',\n",
       " 'mandiri',\n",
       " 'soldier',\n",
       " 'police',\n",
       " 'thirudan',\n",
       " 'raja',\n",
       " 123,\n",
       " False,\n",
       " 1000.0,\n",
       " 'new']"
      ]
     },
     "execution_count": 17,
     "metadata": {},
     "output_type": "execute_result"
    }
   ],
   "source": [
    "roles_list"
   ]
  },
  {
   "cell_type": "code",
   "execution_count": 18,
   "id": "bb517a31-1a2d-4c8e-b21e-fa91ec9ba17e",
   "metadata": {},
   "outputs": [],
   "source": [
    "roles_tuple = tuple(roles_list)"
   ]
  },
  {
   "cell_type": "code",
   "execution_count": 19,
   "id": "3be7ff9f-172c-492d-8239-fb6a36795f9d",
   "metadata": {},
   "outputs": [
    {
     "data": {
      "text/plain": [
       "('raja',\n",
       " 'rani',\n",
       " 'mandiri',\n",
       " 'soldier',\n",
       " 'police',\n",
       " 'thirudan',\n",
       " 'raja',\n",
       " 123,\n",
       " False,\n",
       " 1000.0,\n",
       " 'new')"
      ]
     },
     "execution_count": 19,
     "metadata": {},
     "output_type": "execute_result"
    }
   ],
   "source": [
    "roles_tuple"
   ]
  },
  {
   "cell_type": "code",
   "execution_count": 20,
   "id": "76c453d3-1d51-49f8-9a8b-28a82afb2362",
   "metadata": {},
   "outputs": [
    {
     "data": {
      "text/plain": [
       "tuple"
      ]
     },
     "execution_count": 20,
     "metadata": {},
     "output_type": "execute_result"
    }
   ],
   "source": [
    "type(roles_tuple)"
   ]
  },
  {
   "cell_type": "markdown",
   "id": "70f6f084-918e-4370-8dec-9dde0542c446",
   "metadata": {},
   "source": [
    "# Remove old items - NOT POSSIBLE"
   ]
  },
  {
   "cell_type": "markdown",
   "id": "1de52b83-6e61-40aa-a288-accd8b4ec385",
   "metadata": {},
   "source": [
    "# Packing and unpacking"
   ]
  },
  {
   "cell_type": "code",
   "execution_count": 22,
   "id": "4f67775e-acda-4e1e-aa06-813e83909191",
   "metadata": {},
   "outputs": [],
   "source": [
    "roles = ('raja', 'rani', 'thirudan')"
   ]
  },
  {
   "cell_type": "code",
   "execution_count": 30,
   "id": "0a2668a1-8d7b-4472-880f-8b7e16df0bd7",
   "metadata": {},
   "outputs": [
    {
     "data": {
      "text/plain": [
       "('raja',\n",
       " 'rani',\n",
       " 'mandiri',\n",
       " 'soldier',\n",
       " 'police',\n",
       " 'thirudan',\n",
       " 'raja',\n",
       " 123,\n",
       " False,\n",
       " 1000.0,\n",
       " 'new')"
      ]
     },
     "execution_count": 30,
     "metadata": {},
     "output_type": "execute_result"
    }
   ],
   "source": [
    "roles_tuple"
   ]
  },
  {
   "cell_type": "code",
   "execution_count": 31,
   "id": "f4b6cd3a-e5ce-4d2f-add5-bda0b1c985ab",
   "metadata": {},
   "outputs": [],
   "source": [
    "(start, *mid, end) = roles_tuple"
   ]
  },
  {
   "cell_type": "code",
   "execution_count": 32,
   "id": "1fdaa5a3-42c5-4cd9-a5b0-6a41968ea550",
   "metadata": {},
   "outputs": [
    {
     "data": {
      "text/plain": [
       "'raja'"
      ]
     },
     "execution_count": 32,
     "metadata": {},
     "output_type": "execute_result"
    }
   ],
   "source": [
    "start"
   ]
  },
  {
   "cell_type": "code",
   "execution_count": 33,
   "id": "c88c908c-1049-4d99-b562-88db82452ead",
   "metadata": {},
   "outputs": [
    {
     "data": {
      "text/plain": [
       "'new'"
      ]
     },
     "execution_count": 33,
     "metadata": {},
     "output_type": "execute_result"
    }
   ],
   "source": [
    "end"
   ]
  },
  {
   "cell_type": "code",
   "execution_count": 34,
   "id": "ac8fa6be-f521-45db-9fd1-367ad9b6b021",
   "metadata": {},
   "outputs": [
    {
     "data": {
      "text/plain": [
       "['rani',\n",
       " 'mandiri',\n",
       " 'soldier',\n",
       " 'police',\n",
       " 'thirudan',\n",
       " 'raja',\n",
       " 123,\n",
       " False,\n",
       " 1000.0]"
      ]
     },
     "execution_count": 34,
     "metadata": {},
     "output_type": "execute_result"
    }
   ],
   "source": [
    "mid"
   ]
  },
  {
   "cell_type": "code",
   "execution_count": 23,
   "id": "1ca23f78-61da-47ad-8bf4-b2f89cf1dc73",
   "metadata": {},
   "outputs": [
    {
     "data": {
      "text/plain": [
       "('raja', 'rani', 'thirudan')"
      ]
     },
     "execution_count": 23,
     "metadata": {},
     "output_type": "execute_result"
    }
   ],
   "source": [
    "roles"
   ]
  },
  {
   "cell_type": "code",
   "execution_count": 28,
   "id": "61756b75-7a23-4702-a4c3-687f84bc3c16",
   "metadata": {},
   "outputs": [],
   "source": [
    "val1 = roles[0]"
   ]
  },
  {
   "cell_type": "code",
   "execution_count": 29,
   "id": "62f807c2-436f-4fce-914b-8f91993dd432",
   "metadata": {},
   "outputs": [
    {
     "data": {
      "text/plain": [
       "'raja'"
      ]
     },
     "execution_count": 29,
     "metadata": {},
     "output_type": "execute_result"
    }
   ],
   "source": [
    "val1"
   ]
  },
  {
   "cell_type": "code",
   "execution_count": 24,
   "id": "0a47966d-a5d5-4aff-9e17-ece370e7cdc5",
   "metadata": {},
   "outputs": [],
   "source": [
    "(role1, role2, role3) = roles"
   ]
  },
  {
   "cell_type": "code",
   "execution_count": 27,
   "id": "5bb5f30b-1e58-465f-8d9d-752978ec4c66",
   "metadata": {},
   "outputs": [
    {
     "data": {
      "text/plain": [
       "'thirudan'"
      ]
     },
     "execution_count": 27,
     "metadata": {},
     "output_type": "execute_result"
    }
   ],
   "source": [
    "role3"
   ]
  },
  {
   "cell_type": "markdown",
   "id": "c5a4308c-f317-4f70-8bfd-1f6d42155500",
   "metadata": {},
   "source": [
    "# Additional methods"
   ]
  },
  {
   "cell_type": "markdown",
   "id": "08a9a748-68a3-4bde-9517-0829100e62c8",
   "metadata": {},
   "source": [
    "- count, index"
   ]
  },
  {
   "cell_type": "code",
   "execution_count": 37,
   "id": "967481b7-8ce3-44c5-ae9f-bb681ed84443",
   "metadata": {},
   "outputs": [
    {
     "data": {
      "text/plain": [
       "0"
      ]
     },
     "execution_count": 37,
     "metadata": {},
     "output_type": "execute_result"
    }
   ],
   "source": [
    "roles_tuple.index('raja')"
   ]
  },
  {
   "cell_type": "code",
   "execution_count": 38,
   "id": "0f1e732b-87c3-45b0-9c9b-7bac2adeb6bb",
   "metadata": {},
   "outputs": [
    {
     "data": {
      "text/plain": [
       "('raja',\n",
       " 'rani',\n",
       " 'mandiri',\n",
       " 'soldier',\n",
       " 'police',\n",
       " 'thirudan',\n",
       " 'raja',\n",
       " 123,\n",
       " False,\n",
       " 1000.0,\n",
       " 'new')"
      ]
     },
     "execution_count": 38,
     "metadata": {},
     "output_type": "execute_result"
    }
   ],
   "source": [
    "roles_tuple"
   ]
  },
  {
   "cell_type": "markdown",
   "id": "edad9db1-6c1e-4f95-8b45-98ce91c4e714",
   "metadata": {},
   "source": [
    "# Tuple Loops"
   ]
  },
  {
   "cell_type": "markdown",
   "id": "455a57ff-a753-40ba-9e3c-8ff7788432d5",
   "metadata": {},
   "source": [
    "- in, range(), enumerate()"
   ]
  }
 ],
 "metadata": {
  "kernelspec": {
   "display_name": "Python 3 (ipykernel)",
   "language": "python",
   "name": "python3"
  },
  "language_info": {
   "codemirror_mode": {
    "name": "ipython",
    "version": 3
   },
   "file_extension": ".py",
   "mimetype": "text/x-python",
   "name": "python",
   "nbconvert_exporter": "python",
   "pygments_lexer": "ipython3",
   "version": "3.10.14"
  }
 },
 "nbformat": 4,
 "nbformat_minor": 5
}
