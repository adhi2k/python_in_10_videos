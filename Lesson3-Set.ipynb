{
 "cells": [
  {
   "cell_type": "markdown",
   "id": "f72454ff-1908-4ffa-ab59-62956ce5e2d7",
   "metadata": {},
   "source": [
    "# Create Set"
   ]
  },
  {
   "cell_type": "markdown",
   "id": "3a0a75c3-3655-497f-b95c-55dabc2fdd1f",
   "metadata": {},
   "source": [
    " - UN Ordered\n",
    " - UN changeable\n",
    " - No duplicates\n",
    " - set can have items that are of diff data types\n",
    " - No Index\n"
   ]
  },
  {
   "cell_type": "code",
   "execution_count": 44,
   "id": "0fff36d8-07a0-4636-86fe-f47b928b311c",
   "metadata": {},
   "outputs": [],
   "source": [
    "roles_set = {'raja','rani','police', 'raja', False, 1000.00}"
   ]
  },
  {
   "cell_type": "code",
   "execution_count": 45,
   "id": "0c6989e3-ea32-4624-8920-d9e1d42e2f25",
   "metadata": {},
   "outputs": [
    {
     "data": {
      "text/plain": [
       "{1000.0, False, 'police', 'raja', 'rani'}"
      ]
     },
     "execution_count": 45,
     "metadata": {},
     "output_type": "execute_result"
    }
   ],
   "source": [
    "roles_set"
   ]
  },
  {
   "cell_type": "code",
   "execution_count": 36,
   "id": "64b15a57-7e48-4c5c-b103-b7bf1816b525",
   "metadata": {},
   "outputs": [
    {
     "data": {
      "text/plain": [
       "set"
      ]
     },
     "execution_count": 36,
     "metadata": {},
     "output_type": "execute_result"
    }
   ],
   "source": [
    "type(roles_set)"
   ]
  },
  {
   "cell_type": "code",
   "execution_count": 37,
   "id": "37763ed2-d4d8-40ac-960a-bc5d59d40a6b",
   "metadata": {},
   "outputs": [
    {
     "data": {
      "text/plain": [
       "{'police', 'raja', 'rani'}"
      ]
     },
     "execution_count": 37,
     "metadata": {},
     "output_type": "execute_result"
    }
   ],
   "source": [
    "roles_set"
   ]
  },
  {
   "cell_type": "markdown",
   "id": "3ceea04c-e502-4f94-9814-cff77a0e7114",
   "metadata": {},
   "source": [
    "# Set Accessing"
   ]
  },
  {
   "cell_type": "markdown",
   "id": "48be8c93-200d-458b-a1b3-0b8e6b43a393",
   "metadata": {},
   "source": [
    "- in and not in"
   ]
  },
  {
   "cell_type": "code",
   "execution_count": 38,
   "id": "91779727-36c4-4a3e-9ced-79edc47f82b0",
   "metadata": {},
   "outputs": [
    {
     "ename": "TypeError",
     "evalue": "'set' object is not subscriptable",
     "output_type": "error",
     "traceback": [
      "\u001b[1;31m---------------------------------------------------------------------------\u001b[0m",
      "\u001b[1;31mTypeError\u001b[0m                                 Traceback (most recent call last)",
      "Cell \u001b[1;32mIn[38], line 1\u001b[0m\n\u001b[1;32m----> 1\u001b[0m \u001b[43mroles_set\u001b[49m\u001b[43m[\u001b[49m\u001b[38;5;241;43m0\u001b[39;49m\u001b[43m]\u001b[49m\n",
      "\u001b[1;31mTypeError\u001b[0m: 'set' object is not subscriptable"
     ]
    }
   ],
   "source": [
    "roles_set[0]"
   ]
  },
  {
   "cell_type": "code",
   "execution_count": 39,
   "id": "917f3a2f-4408-4bd8-b7c3-a8b9583ed66c",
   "metadata": {},
   "outputs": [
    {
     "name": "stdout",
     "output_type": "stream",
     "text": [
      "raja\n",
      "rani\n",
      "police\n"
     ]
    }
   ],
   "source": [
    "for i in roles_set:\n",
    "    print(i)"
   ]
  },
  {
   "cell_type": "code",
   "execution_count": 41,
   "id": "dbf5623e-4745-4a81-8279-a70e2c71a676",
   "metadata": {},
   "outputs": [
    {
     "data": {
      "text/plain": [
       "True"
      ]
     },
     "execution_count": 41,
     "metadata": {},
     "output_type": "execute_result"
    }
   ],
   "source": [
    "'cat' not in roles_set"
   ]
  },
  {
   "cell_type": "markdown",
   "id": "58ba4980-3431-4652-8902-e20e89362b70",
   "metadata": {},
   "source": [
    "# Add new items"
   ]
  },
  {
   "cell_type": "markdown",
   "id": "90c18dbb-ae94-4dfe-9882-89aa605773f6",
   "metadata": {},
   "source": [
    "-add(), update(any iteratable)"
   ]
  },
  {
   "cell_type": "code",
   "execution_count": 17,
   "id": "425addbf-05e8-448a-a7a3-b601e6b9231a",
   "metadata": {},
   "outputs": [],
   "source": [
    "roles_set.add('mandiri')"
   ]
  },
  {
   "cell_type": "code",
   "execution_count": 6,
   "id": "293e2b46-f638-45c4-a055-dc66745bfed6",
   "metadata": {},
   "outputs": [
    {
     "data": {
      "text/plain": [
       "{'mandiri', 'police', 'raja', 'rani'}"
      ]
     },
     "execution_count": 6,
     "metadata": {},
     "output_type": "execute_result"
    }
   ],
   "source": [
    "roles_set"
   ]
  },
  {
   "cell_type": "code",
   "execution_count": 9,
   "id": "e6ec08f1-b2b0-4458-be59-44f24df7b04f",
   "metadata": {},
   "outputs": [],
   "source": [
    "kutti_tuple = ('dog', 'thirudan')"
   ]
  },
  {
   "cell_type": "code",
   "execution_count": 19,
   "id": "209f06e0-4e37-4f36-b998-58b125cec077",
   "metadata": {},
   "outputs": [],
   "source": [
    "roles_set.update(kutti_tuple)"
   ]
  },
  {
   "cell_type": "code",
   "execution_count": 20,
   "id": "ef8af140-4788-4b03-a087-2140c75aa2aa",
   "metadata": {},
   "outputs": [
    {
     "data": {
      "text/plain": [
       "{'dog', 'mandiri', 'police', 'raja', 'rani', 'thirudan'}"
      ]
     },
     "execution_count": 20,
     "metadata": {},
     "output_type": "execute_result"
    }
   ],
   "source": [
    "roles_set"
   ]
  },
  {
   "cell_type": "markdown",
   "id": "70f6f084-918e-4370-8dec-9dde0542c446",
   "metadata": {},
   "source": [
    "# Remove old items"
   ]
  },
  {
   "cell_type": "markdown",
   "id": "57548d9c-e19a-4b71-a48a-ecdf39c2d4f7",
   "metadata": {},
   "source": [
    "- pop(random), remove(), clear(), discard(gracefully), del keyword"
   ]
  },
  {
   "cell_type": "code",
   "execution_count": 21,
   "id": "775c79df-c27b-4de7-89d7-b037cd6f3102",
   "metadata": {},
   "outputs": [
    {
     "data": {
      "text/plain": [
       "'raja'"
      ]
     },
     "execution_count": 21,
     "metadata": {},
     "output_type": "execute_result"
    }
   ],
   "source": [
    "roles_set.pop()"
   ]
  },
  {
   "cell_type": "code",
   "execution_count": 23,
   "id": "78e39630-77f3-461b-97dc-0e962aed433b",
   "metadata": {},
   "outputs": [],
   "source": [
    "roles_set.remove('rani')"
   ]
  },
  {
   "cell_type": "code",
   "execution_count": 26,
   "id": "6ad7371b-5c37-4d30-8837-6ad0206f6242",
   "metadata": {},
   "outputs": [],
   "source": [
    "roles_set.discard('keerthi')"
   ]
  },
  {
   "cell_type": "code",
   "execution_count": 28,
   "id": "f1e1dd2b-d48d-4522-8c78-020c41d00923",
   "metadata": {},
   "outputs": [
    {
     "data": {
      "text/plain": [
       "{'dog', 'mandiri', 'police', 'thirudan'}"
      ]
     },
     "execution_count": 28,
     "metadata": {},
     "output_type": "execute_result"
    }
   ],
   "source": [
    "roles_set"
   ]
  },
  {
   "cell_type": "code",
   "execution_count": 29,
   "id": "bb1509a8-c160-472d-8c97-b33c55cdb2a2",
   "metadata": {},
   "outputs": [],
   "source": [
    "roles_set.clear()"
   ]
  },
  {
   "cell_type": "code",
   "execution_count": 30,
   "id": "64dda402-c3aa-45e2-a530-682146022d18",
   "metadata": {},
   "outputs": [
    {
     "data": {
      "text/plain": [
       "set()"
      ]
     },
     "execution_count": 30,
     "metadata": {},
     "output_type": "execute_result"
    }
   ],
   "source": [
    "roles_set"
   ]
  },
  {
   "cell_type": "code",
   "execution_count": 31,
   "id": "30647ff9-0e8a-4d9a-b4ee-206faa1573b1",
   "metadata": {},
   "outputs": [],
   "source": [
    "del roles_set"
   ]
  },
  {
   "cell_type": "code",
   "execution_count": 32,
   "id": "e57207b1-2fd0-4964-b3e6-44e72f92833a",
   "metadata": {},
   "outputs": [
    {
     "ename": "NameError",
     "evalue": "name 'roles_set' is not defined",
     "output_type": "error",
     "traceback": [
      "\u001b[1;31m---------------------------------------------------------------------------\u001b[0m",
      "\u001b[1;31mNameError\u001b[0m                                 Traceback (most recent call last)",
      "Cell \u001b[1;32mIn[32], line 1\u001b[0m\n\u001b[1;32m----> 1\u001b[0m \u001b[43mroles_set\u001b[49m\n",
      "\u001b[1;31mNameError\u001b[0m: name 'roles_set' is not defined"
     ]
    }
   ],
   "source": [
    "roles_set"
   ]
  },
  {
   "cell_type": "markdown",
   "id": "c5a4308c-f317-4f70-8bfd-1f6d42155500",
   "metadata": {},
   "source": [
    "# Additional methods"
   ]
  },
  {
   "cell_type": "markdown",
   "id": "08a9a748-68a3-4bde-9517-0829100e62c8",
   "metadata": {},
   "source": [
    "- difference(), difference_update(), intersection(), intersection_update(), symmetric_difference(), symmetric_difference_update(), issubset(), issuperset(), isdisjoint(), union()"
   ]
  },
  {
   "cell_type": "code",
   "execution_count": 57,
   "id": "2df05a8a-f30e-4541-8b9a-a50d21807288",
   "metadata": {},
   "outputs": [],
   "source": [
    "role1 = {'raja', 'rani', 'police'}\n",
    "role2 = {'rani', 'dog', 'thirudan'}"
   ]
  },
  {
   "cell_type": "code",
   "execution_count": 49,
   "id": "f5768f36-a69f-4d45-a66b-915d2c05103e",
   "metadata": {},
   "outputs": [],
   "source": [
    "res = role2.difference(role1)"
   ]
  },
  {
   "cell_type": "code",
   "execution_count": 50,
   "id": "c2caaeb4-50dd-4185-827d-688eed41177f",
   "metadata": {},
   "outputs": [
    {
     "data": {
      "text/plain": [
       "set"
      ]
     },
     "execution_count": 50,
     "metadata": {},
     "output_type": "execute_result"
    }
   ],
   "source": [
    "type(res)"
   ]
  },
  {
   "cell_type": "code",
   "execution_count": 51,
   "id": "b6dcee16-8c9f-4568-8dd1-5cdb7d6f47d9",
   "metadata": {},
   "outputs": [],
   "source": [
    "role1.difference_update(role2)"
   ]
  },
  {
   "cell_type": "code",
   "execution_count": 52,
   "id": "54180379-4d18-4d1b-a4ad-40a25a0643a4",
   "metadata": {},
   "outputs": [
    {
     "data": {
      "text/plain": [
       "{'police', 'raja'}"
      ]
     },
     "execution_count": 52,
     "metadata": {},
     "output_type": "execute_result"
    }
   ],
   "source": [
    "role1"
   ]
  },
  {
   "cell_type": "code",
   "execution_count": 55,
   "id": "6350a34a-2da2-461e-9f4f-28afa59c08c7",
   "metadata": {},
   "outputs": [],
   "source": [
    "role1.intersection_update(role2)"
   ]
  },
  {
   "cell_type": "code",
   "execution_count": 56,
   "id": "80f355f9-caff-4055-a3e5-a2630fce0a90",
   "metadata": {},
   "outputs": [
    {
     "data": {
      "text/plain": [
       "{'rani'}"
      ]
     },
     "execution_count": 56,
     "metadata": {},
     "output_type": "execute_result"
    }
   ],
   "source": [
    "role1"
   ]
  },
  {
   "cell_type": "code",
   "execution_count": 58,
   "id": "38b3fcc0-1156-4e24-8791-b85c07fb3a98",
   "metadata": {},
   "outputs": [
    {
     "data": {
      "text/plain": [
       "{'dog', 'police', 'raja', 'thirudan'}"
      ]
     },
     "execution_count": 58,
     "metadata": {},
     "output_type": "execute_result"
    }
   ],
   "source": [
    "role1.symmetric_difference(role2)"
   ]
  },
  {
   "cell_type": "code",
   "execution_count": 73,
   "id": "5cb0a25b-f0bc-458d-a5e1-c0933dc65757",
   "metadata": {},
   "outputs": [],
   "source": [
    "role1 = {'raja', 'rani'}\n",
    "role2 = {'rani', 'dog', 'thirudan'}\n",
    "role3 = {'raja', 'rani'}\n",
    "role4 = {'dog', 'wolf'}"
   ]
  },
  {
   "cell_type": "code",
   "execution_count": 61,
   "id": "87ac9d24-6fd2-4c99-a61e-90d3bd7da9f8",
   "metadata": {},
   "outputs": [
    {
     "data": {
      "text/plain": [
       "False"
      ]
     },
     "execution_count": 61,
     "metadata": {},
     "output_type": "execute_result"
    }
   ],
   "source": [
    "role2.issubset(role1)"
   ]
  },
  {
   "cell_type": "code",
   "execution_count": 63,
   "id": "a8b3b07e-2f48-46ca-a8fd-251e966dadba",
   "metadata": {},
   "outputs": [
    {
     "data": {
      "text/plain": [
       "False"
      ]
     },
     "execution_count": 63,
     "metadata": {},
     "output_type": "execute_result"
    }
   ],
   "source": [
    "role2.issuperset(role3)"
   ]
  },
  {
   "cell_type": "code",
   "execution_count": 75,
   "id": "5c79a3be-43fb-4c66-95fd-4facfffe5dbb",
   "metadata": {},
   "outputs": [
    {
     "data": {
      "text/plain": [
       "False"
      ]
     },
     "execution_count": 75,
     "metadata": {},
     "output_type": "execute_result"
    }
   ],
   "source": [
    "role1.isdisjoint(role2)"
   ]
  },
  {
   "cell_type": "code",
   "execution_count": 76,
   "id": "131c259e-6e57-4e17-ac1e-a98aaf04b641",
   "metadata": {},
   "outputs": [
    {
     "data": {
      "text/plain": [
       "{'dog', 'raja', 'rani', 'wolf'}"
      ]
     },
     "execution_count": 76,
     "metadata": {},
     "output_type": "execute_result"
    }
   ],
   "source": [
    "role1.union(role4)"
   ]
  },
  {
   "cell_type": "markdown",
   "id": "edad9db1-6c1e-4f95-8b45-98ce91c4e714",
   "metadata": {},
   "source": [
    "# Set Loops"
   ]
  },
  {
   "cell_type": "markdown",
   "id": "455a57ff-a753-40ba-9e3c-8ff7788432d5",
   "metadata": {},
   "source": [
    "- in, range(), enumerate()"
   ]
  }
 ],
 "metadata": {
  "kernelspec": {
   "display_name": "Python 3 (ipykernel)",
   "language": "python",
   "name": "python3"
  },
  "language_info": {
   "codemirror_mode": {
    "name": "ipython",
    "version": 3
   },
   "file_extension": ".py",
   "mimetype": "text/x-python",
   "name": "python",
   "nbconvert_exporter": "python",
   "pygments_lexer": "ipython3",
   "version": "3.10.14"
  }
 },
 "nbformat": 4,
 "nbformat_minor": 5
}
