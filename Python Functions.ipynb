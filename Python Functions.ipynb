{
 "cells": [
  {
   "cell_type": "markdown",
   "id": "80204537-5bb5-4faf-8f71-a1f4737c476c",
   "metadata": {},
   "source": [
    "# Data"
   ]
  },
  {
   "cell_type": "code",
   "execution_count": 28,
   "id": "4d5722d8-4a9a-4b24-bd95-0cee3088d93f",
   "metadata": {},
   "outputs": [],
   "source": [
    "Trisha = {\"song\": [\"Appadi_podu\", \"kannum_kannumthaan_kalandachu\", \"oli_oli_iduppae\", \"Thaen_Thaen_Thaen\", \"Matta\"],\n",
    "          \"Movie\" : [\"GHILLI\", \"THIRUPPACHI\",\"AADHI\", \"KURUVI\", \"GOAT\"],\n",
    "          \"Year\" : [\"2004\", \"2005\", \"2006\", \"2008\", \"2024\"]}"
   ]
  },
  {
   "cell_type": "code",
   "execution_count": 25,
   "id": "cdfd2976-2e11-4533-9c38-550675240cfa",
   "metadata": {},
   "outputs": [
    {
     "data": {
      "text/plain": [
       "{'songs': ['Appadi_podu',\n",
       "  'kannum_kannumthaan_kalandachu',\n",
       "  'oli_oli_iduppae',\n",
       "  'Thaen_Thaen_Thaen',\n",
       "  'Matta'],\n",
       " 'Movie': ['GHILLI', 'THIRUPPACHI', 'AADHI', 'KURUVI', 'GOAT'],\n",
       " 'Year': ['2004', '2005', '2006', '2008', '2024']}"
      ]
     },
     "execution_count": 25,
     "metadata": {},
     "output_type": "execute_result"
    }
   ],
   "source": [
    "Trisha"
   ]
  },
  {
   "cell_type": "code",
   "execution_count": 26,
   "id": "649b1db1-338e-4d57-8ee3-5236c4103990",
   "metadata": {},
   "outputs": [
    {
     "data": {
      "text/plain": [
       "dict"
      ]
     },
     "execution_count": 26,
     "metadata": {},
     "output_type": "execute_result"
    }
   ],
   "source": [
    "type(Trisha)"
   ]
  },
  {
   "cell_type": "code",
   "execution_count": 29,
   "id": "7b9c9562-4aba-4d29-8cc0-b6fe033dc951",
   "metadata": {},
   "outputs": [
    {
     "data": {
      "text/plain": [
       "list"
      ]
     },
     "execution_count": 29,
     "metadata": {},
     "output_type": "execute_result"
    }
   ],
   "source": [
    "type(Trisha[\"song\"])"
   ]
  },
  {
   "cell_type": "markdown",
   "id": "be3f5c9d-957c-4fb8-9bbf-1fdd8c730ca5",
   "metadata": {},
   "source": [
    "# Creating a function"
   ]
  },
  {
   "cell_type": "code",
   "execution_count": 77,
   "id": "aedab0c6-3968-4785-9115-0150f389043b",
   "metadata": {},
   "outputs": [],
   "source": [
    "def find_the_movie(**song):\n",
    "    \"\"\" Docstring  - This function is to find the movie name given the song\"\"\"\n",
    "    print(type(song))\n",
    "    if song in Trisha[\"song\"]:\n",
    "        position = Trisha[\"song\"].index(song)\n",
    "        print(\"Ans in position: \", position)\n",
    "        print(Trisha[\"Movie\"][position])\n",
    "        return Trisha[\"Movie\"][position], Trisha[\"Year\"][position]"
   ]
  },
  {
   "cell_type": "markdown",
   "id": "7aa0886c-8403-442f-92c4-0ba88b4f03a8",
   "metadata": {},
   "source": [
    "# Calling a function"
   ]
  },
  {
   "cell_type": "code",
   "execution_count": 61,
   "id": "0f4e531e-e62b-4292-a823-e31d03cc41e5",
   "metadata": {},
   "outputs": [
    {
     "name": "stdout",
     "output_type": "stream",
     "text": [
      "<class 'tuple'>\n",
      "Ans in position:  4\n",
      "GOAT\n"
     ]
    }
   ],
   "source": [
    "movie_name = find_the_movie(\"Matta\",\"Apadi_podu\", \"oli_oli_iduppae\")"
   ]
  },
  {
   "cell_type": "code",
   "execution_count": 50,
   "id": "4c09ffeb-4da0-4540-bee5-fbbc67554345",
   "metadata": {},
   "outputs": [
    {
     "data": {
      "text/plain": [
       "tuple"
      ]
     },
     "execution_count": 50,
     "metadata": {},
     "output_type": "execute_result"
    }
   ],
   "source": [
    "type(movie_name)"
   ]
  },
  {
   "cell_type": "code",
   "execution_count": 57,
   "id": "2b0d88cd-b817-4bea-ae2e-e6b3d1a5d174",
   "metadata": {},
   "outputs": [
    {
     "data": {
      "text/plain": [
       "'2024'"
      ]
     },
     "execution_count": 57,
     "metadata": {},
     "output_type": "execute_result"
    }
   ],
   "source": [
    "movie_name[1]"
   ]
  },
  {
   "cell_type": "markdown",
   "id": "4b406dc8-a2ef-4009-8316-20b938e61b83",
   "metadata": {},
   "source": [
    "# Default arguments"
   ]
  },
  {
   "cell_type": "code",
   "execution_count": 71,
   "id": "7c60c3d0-65bf-4f6c-9fed-8c12e6000fdc",
   "metadata": {},
   "outputs": [
    {
     "name": "stdout",
     "output_type": "stream",
     "text": [
      "Ans in position:  2\n",
      "AADHI\n"
     ]
    },
    {
     "data": {
      "text/plain": [
       "('AADHI', '2006')"
      ]
     },
     "execution_count": 71,
     "metadata": {},
     "output_type": "execute_result"
    }
   ],
   "source": [
    "find_the_movie(\"oli_oli_iduppae\")"
   ]
  },
  {
   "cell_type": "markdown",
   "id": "e0b76b74-7731-4176-9e6a-37fd41f77f71",
   "metadata": {},
   "source": [
    "# Arguments"
   ]
  },
  {
   "cell_type": "markdown",
   "id": "5309346f-d992-4947-a676-fa8fafc21276",
   "metadata": {},
   "source": [
    "paramaters and arguments are same "
   ]
  },
  {
   "cell_type": "markdown",
   "id": "aeba619e-b889-477b-813a-d7f416efef4e",
   "metadata": {},
   "source": [
    "# Keyword Arguments"
   ]
  },
  {
   "cell_type": "code",
   "execution_count": 76,
   "id": "cb638962-f09d-47e8-ac19-4eecf09743ff",
   "metadata": {},
   "outputs": [
    {
     "name": "stdout",
     "output_type": "stream",
     "text": [
      "Ans in position:  4\n",
      "GOAT\n"
     ]
    },
    {
     "data": {
      "text/plain": [
       "('GOAT', '2024')"
      ]
     },
     "execution_count": 76,
     "metadata": {},
     "output_type": "execute_result"
    }
   ],
   "source": [
    "find_the_movie(year=2024, song=\"Matta\")"
   ]
  },
  {
   "cell_type": "code",
   "execution_count": 78,
   "id": "e776eabb-cec9-4a90-94f6-7fae23c2d6a9",
   "metadata": {},
   "outputs": [
    {
     "name": "stdout",
     "output_type": "stream",
     "text": [
      "<class 'dict'>\n"
     ]
    }
   ],
   "source": [
    "find_the_movie(year=2024, song=\"Matta\", actor=\"Thalapathy\")"
   ]
  },
  {
   "cell_type": "markdown",
   "id": "f16a4753-7632-4942-bd3b-9eb387b83647",
   "metadata": {},
   "source": [
    "# Lambda Function"
   ]
  },
  {
   "cell_type": "code",
   "execution_count": 103,
   "id": "cbbcec83-b459-4bbf-8f95-9f26bfc75ad7",
   "metadata": {},
   "outputs": [],
   "source": [
    "lucky_year = lambda year: print(Trisha['Movie'][Trisha['Year'].index(year)]) if year in Trisha[\"Year\"] else print(\"No luck!\")"
   ]
  },
  {
   "cell_type": "code",
   "execution_count": 104,
   "id": "829bfecf-361d-4413-b6f3-d03fc94bb266",
   "metadata": {},
   "outputs": [
    {
     "name": "stdout",
     "output_type": "stream",
     "text": [
      "GHILLI\n"
     ]
    }
   ],
   "source": [
    "lucky_year(\"2004\")"
   ]
  },
  {
   "cell_type": "markdown",
   "id": "b5119d99-1cdd-4ffb-8e26-70f8f192ec52",
   "metadata": {},
   "source": [
    "# Map function"
   ]
  },
  {
   "cell_type": "code",
   "execution_count": 111,
   "id": "d8905f24-49a5-4ff6-b682-096d2ec672fb",
   "metadata": {},
   "outputs": [],
   "source": [
    "lower_case_movie_names = list(map(str.lower, Trisha['Movie']))"
   ]
  },
  {
   "cell_type": "code",
   "execution_count": 112,
   "id": "46f01e5c-f39a-4682-89d7-00429d897ed6",
   "metadata": {},
   "outputs": [
    {
     "data": {
      "text/plain": [
       "['ghilli', 'thiruppachi', 'aadhi', 'kuruvi', 'goat']"
      ]
     },
     "execution_count": 112,
     "metadata": {},
     "output_type": "execute_result"
    }
   ],
   "source": [
    "lower_case_movie_names"
   ]
  },
  {
   "cell_type": "code",
   "execution_count": 113,
   "id": "60656f55-d33e-4f7e-9c9c-f729f3fee934",
   "metadata": {},
   "outputs": [
    {
     "data": {
      "text/plain": [
       "['GHILLI', 'THIRUPPACHI', 'AADHI', 'KURUVI', 'GOAT']"
      ]
     },
     "execution_count": 113,
     "metadata": {},
     "output_type": "execute_result"
    }
   ],
   "source": [
    "Trisha['Movie']"
   ]
  },
  {
   "cell_type": "markdown",
   "id": "e8ec790e-c577-448f-92ff-06a158240c73",
   "metadata": {},
   "source": [
    "# Lambda with Map"
   ]
  },
  {
   "cell_type": "code",
   "execution_count": 116,
   "id": "7bb29091-507e-4f7c-a4ac-1fb7d911c100",
   "metadata": {},
   "outputs": [
    {
     "data": {
      "text/plain": [
       "['ghilli', 'thiruppachi', 'aadhi', 'kuruvi', 'goat']"
      ]
     },
     "execution_count": 116,
     "metadata": {},
     "output_type": "execute_result"
    }
   ],
   "source": [
    "list(map(lambda movie_name : str.lower(movie_name), Trisha['Movie']))"
   ]
  },
  {
   "cell_type": "markdown",
   "id": "f087c12e-6b1f-42b7-9b79-908a90b7ad49",
   "metadata": {},
   "source": [
    "# Map more than 1 iteratables"
   ]
  },
  {
   "cell_type": "code",
   "execution_count": 124,
   "id": "4dd9edc9-fbd2-45bd-b166-83b6b154f2da",
   "metadata": {},
   "outputs": [],
   "source": [
    "Movies = Trisha['Movie']\n",
    "Songs = Trisha['song']"
   ]
  },
  {
   "cell_type": "code",
   "execution_count": 125,
   "id": "443f21ac-ec0d-40b1-a05f-4facd57cc666",
   "metadata": {},
   "outputs": [
    {
     "data": {
      "text/plain": [
       "list"
      ]
     },
     "execution_count": 125,
     "metadata": {},
     "output_type": "execute_result"
    }
   ],
   "source": [
    "type(Movies)"
   ]
  },
  {
   "cell_type": "code",
   "execution_count": 128,
   "id": "91c37541-4744-4ea5-ac38-c9613524c554",
   "metadata": {},
   "outputs": [
    {
     "data": {
      "text/plain": [
       "['GHILLI hit song Appadi_podu',\n",
       " 'THIRUPPACHI hit song kannum_kannumthaan_kalandachu',\n",
       " 'AADHI hit song oli_oli_iduppae',\n",
       " 'KURUVI hit song Thaen_Thaen_Thaen',\n",
       " 'GOAT hit song Matta']"
      ]
     },
     "execution_count": 128,
     "metadata": {},
     "output_type": "execute_result"
    }
   ],
   "source": [
    "list(map(lambda movie_name, song_name : movie_name + \" hit song \" + song_name, Movies, Songs))"
   ]
  },
  {
   "cell_type": "markdown",
   "id": "6b97e425-2ca0-4f08-ae14-0444e48e397a",
   "metadata": {},
   "source": [
    "# Map with 2 dictionaries"
   ]
  },
  {
   "cell_type": "code",
   "execution_count": 12,
   "id": "cdd08d02-831b-4096-b364-fbcd0fffbe8f",
   "metadata": {},
   "outputs": [],
   "source": [
    "Trisha = {\"song\": [\"Appadi_podu\", \"kannum_kannumthaan_kalandachu\", \"oli_oli_iduppae\", \"Thaen_Thaen_Thaen\", \"Matta\"],\n",
    "          \"Movie\" : [\"GHILLI\", \"THIRUPPACHI\",\"AADHI\", \"KURUVI\", \"GOAT\"],\n",
    "          \"Year\" : [\"2004\", \"2005\", \"2006\", \"2008\", \"2024\"]}"
   ]
  },
  {
   "cell_type": "code",
   "execution_count": 1,
   "id": "0da56d2c-5cf4-42f6-a4e3-c9cdf898a238",
   "metadata": {},
   "outputs": [],
   "source": [
    "Simran = {\"song\": [\"Oormila_Oormila\", \"Innisai_Padi_varum\", \"Ennavo_Ennavo\", \"Aal_Thotta_Bhoopathi\", \"Udhaya_Udhaya\"],\n",
    "          \"Movie\" : [\"Once_more\", \"Thullatha_manamum_thullum\", \"Priyamaanavalle\", \"Youth\", \"Udhaya\"],\n",
    "          \"Year\" : [\"1997\", \"1999\", \"2000\", \"2002\", \"2004\"]}"
   ]
  },
  {
   "cell_type": "code",
   "execution_count": 24,
   "id": "cdac48f3-ee95-4c6a-9cc8-ed77b23568e3",
   "metadata": {},
   "outputs": [],
   "source": [
    "thalapathy_hit_songs = [Trisha, Simran]"
   ]
  },
  {
   "cell_type": "code",
   "execution_count": 25,
   "id": "fe59437e-e81a-4db4-bec8-ac1ad5060988",
   "metadata": {},
   "outputs": [],
   "source": [
    "def get_hit_songs(actress_dictionary):\n",
    "    return actress_dictionary['song']"
   ]
  },
  {
   "cell_type": "code",
   "execution_count": 27,
   "id": "5bacd0fc-ac56-45ff-bfc6-b1401cce2ae9",
   "metadata": {},
   "outputs": [
    {
     "data": {
      "text/plain": [
       "[['Appadi_podu',\n",
       "  'kannum_kannumthaan_kalandachu',\n",
       "  'oli_oli_iduppae',\n",
       "  'Thaen_Thaen_Thaen',\n",
       "  'Matta'],\n",
       " ['Oormila_Oormila',\n",
       "  'Innisai_Padi_varum',\n",
       "  'Ennavo_Ennavo',\n",
       "  'Aal_Thotta_Bhoopathi',\n",
       "  'Udhaya_Udhaya']]"
      ]
     },
     "execution_count": 27,
     "metadata": {},
     "output_type": "execute_result"
    }
   ],
   "source": [
    "list(map(get_hit_songs, thalapathy_hit_songs))"
   ]
  },
  {
   "cell_type": "markdown",
   "id": "cc673ec3-4f40-4ffd-9afc-5b9e594b1787",
   "metadata": {},
   "source": [
    "# Filter"
   ]
  },
  {
   "cell_type": "code",
   "execution_count": 37,
   "id": "1621817c-9c1d-4aca-851b-84759be78fbf",
   "metadata": {},
   "outputs": [
    {
     "data": {
      "text/plain": [
       "['2004', '2006', '2008', '2024']"
      ]
     },
     "execution_count": 37,
     "metadata": {},
     "output_type": "execute_result"
    }
   ],
   "source": [
    "list(filter(lambda year: int(year)%2==0, Trisha['Year']))"
   ]
  },
  {
   "cell_type": "markdown",
   "id": "1afc9b8a-e44d-417a-9691-04ee695ec9b7",
   "metadata": {},
   "source": [
    "# Filter based on multiple conditions"
   ]
  },
  {
   "cell_type": "code",
   "execution_count": 38,
   "id": "31f70674-1057-49be-a57a-0faaef51ac2c",
   "metadata": {},
   "outputs": [
    {
     "data": {
      "text/plain": [
       "['2024']"
      ]
     },
     "execution_count": 38,
     "metadata": {},
     "output_type": "execute_result"
    }
   ],
   "source": [
    "list(filter(lambda year: int(year)%2==0 and int(year) >=2020, Trisha['Year']))"
   ]
  },
  {
   "cell_type": "code",
   "execution_count": 42,
   "id": "d8bf4e52-a6ca-4da0-a705-4c4a5f0aba74",
   "metadata": {},
   "outputs": [
    {
     "data": {
      "text/plain": [
       "'GOAT'"
      ]
     },
     "execution_count": 42,
     "metadata": {},
     "output_type": "execute_result"
    }
   ],
   "source": [
    "Trisha['Movie'][Trisha['Year'].index('2024')]"
   ]
  },
  {
   "cell_type": "markdown",
   "id": "37a21eed-9536-48ec-a6fd-040aa3dc9b44",
   "metadata": {},
   "source": [
    "# Filter with more than 1 iteratables"
   ]
  },
  {
   "cell_type": "code",
   "execution_count": 53,
   "id": "fb5cdb17-0f65-44f8-8043-fea621e8e57c",
   "metadata": {},
   "outputs": [
    {
     "data": {
      "text/plain": [
       "[['2004', '2005', '2006', '2008', '2024'],\n",
       " ['1997', '1999', '2000', '2002', '2004']]"
      ]
     },
     "execution_count": 53,
     "metadata": {},
     "output_type": "execute_result"
    }
   ],
   "source": [
    "list(filter(lambda year: len(year)<=5 , [Trisha['Year'], Simran['Year']]))"
   ]
  },
  {
   "cell_type": "code",
   "execution_count": null,
   "id": "f9460b3f-33a9-4792-baa9-2040ae023ebf",
   "metadata": {},
   "outputs": [],
   "source": []
  }
 ],
 "metadata": {
  "kernelspec": {
   "display_name": "Python 3 (ipykernel)",
   "language": "python",
   "name": "python3"
  },
  "language_info": {
   "codemirror_mode": {
    "name": "ipython",
    "version": 3
   },
   "file_extension": ".py",
   "mimetype": "text/x-python",
   "name": "python",
   "nbconvert_exporter": "python",
   "pygments_lexer": "ipython3",
   "version": "3.12.4"
  }
 },
 "nbformat": 4,
 "nbformat_minor": 5
}
