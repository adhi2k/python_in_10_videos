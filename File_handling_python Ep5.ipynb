{
 "cells": [
  {
   "cell_type": "markdown",
   "id": "e716a354-f501-433e-8ef1-d9f1e6c8353f",
   "metadata": {},
   "source": [
    "# File Open"
   ]
  },
  {
   "cell_type": "markdown",
   "id": "0413fe28-59f9-4058-a9bd-920dfdc277be",
   "metadata": {},
   "source": [
    "### file_object = open(filename ,mode)"
   ]
  },
  {
   "cell_type": "markdown",
   "id": "73d60838-b11a-474b-bfab-676836370d85",
   "metadata": {},
   "source": [
    "\"r\" - Read - Default value. Opens a file for reading, error if the file does not exist\n",
    "\n",
    "\"a\" - Append - Opens a file for appending, creates the file if it does not exist\n",
    "\n",
    "\"w\" - Write - Opens a file for writing, creates the file if it does not exist\n",
    "\n",
    "\"x\" - Create - Creates the specified file, returns an error if the file exists"
   ]
  },
  {
   "cell_type": "code",
   "execution_count": 9,
   "id": "cd066938-29af-406c-ac06-7d251117cda3",
   "metadata": {},
   "outputs": [],
   "source": [
    "my_leave_letter = open(\"Leave_letter.txt\")"
   ]
  },
  {
   "cell_type": "code",
   "execution_count": 10,
   "id": "cbc645a6-241f-4b61-b4e1-7bab3f22c58e",
   "metadata": {},
   "outputs": [
    {
     "data": {
      "text/plain": [
       "<_io.TextIOWrapper name='Leave_letter.txt' mode='r' encoding='cp1252'>"
      ]
     },
     "execution_count": 10,
     "metadata": {},
     "output_type": "execute_result"
    }
   ],
   "source": [
    "my_leave_letter"
   ]
  },
  {
   "cell_type": "markdown",
   "id": "5ce6f858-ab73-46bf-a16f-aeff11e04a48",
   "metadata": {},
   "source": [
    "# File reading"
   ]
  },
  {
   "cell_type": "code",
   "execution_count": 40,
   "id": "4082825f-9d72-4d1f-b323-9ad04631bc4a",
   "metadata": {},
   "outputs": [
    {
     "name": "stdout",
     "output_type": "stream",
     "text": [
      "From:\n",
      "\tS.Keerthana,\n",
      "\tVI-B,\n",
      "\tLions Matriculation Higher Secondary School,\n",
      "\tDindigul - 624001.\n",
      "\n",
      "To:\n",
      "\tMrs. Usha Rani,\n",
      "\tVI-B,\n",
      "\tLions Matriculation Higher Secondary School,\n",
      "\tDindigul - 624001.\n",
      "\n",
      "\n",
      "Respected Miss,\n",
      "\tAs I'm suffering from fever, kindly grant me leave for one day(24-9-24). \n",
      "Thank you\n",
      "\n"
     ]
    }
   ],
   "source": [
    "with open(\"Leave_letter.txt\", \"r\") as file:\n",
    "    print(file.read())"
   ]
  },
  {
   "cell_type": "markdown",
   "id": "a18a6327-90fe-4fd2-ad22-5ec289b8bfee",
   "metadata": {},
   "source": [
    "# File paths"
   ]
  },
  {
   "cell_type": "markdown",
   "id": "03f565f8-b2cb-4d52-8c9b-73b75a35583f",
   "metadata": {},
   "source": [
    "- create and listdirectory\n",
    "- Get absolute path\n",
    "- Get current path\n",
    "- path.exists, path.isdir, path.isfile"
   ]
  },
  {
   "cell_type": "code",
   "execution_count": 21,
   "id": "604efa16-4943-4103-a0f5-0d297091147a",
   "metadata": {},
   "outputs": [],
   "source": [
    "import os"
   ]
  },
  {
   "cell_type": "code",
   "execution_count": 22,
   "id": "0623dd07-03d1-44db-8d0e-7861c3ced7a1",
   "metadata": {},
   "outputs": [
    {
     "data": {
      "text/plain": [
       "'C:\\\\Users\\\\keert\\\\Downloads\\\\Episode5\\\\file_handling'"
      ]
     },
     "execution_count": 22,
     "metadata": {},
     "output_type": "execute_result"
    }
   ],
   "source": [
    "os.getcwd()"
   ]
  },
  {
   "cell_type": "code",
   "execution_count": 23,
   "id": "5c5210b4-7c52-412b-8332-0d9bc76ca10a",
   "metadata": {},
   "outputs": [
    {
     "data": {
      "text/plain": [
       "['.ipynb_checkpoints', 'File_handling_python.ipynb', 'Leave_letter.txt']"
      ]
     },
     "execution_count": 23,
     "metadata": {},
     "output_type": "execute_result"
    }
   ],
   "source": [
    "os.listdir('.')"
   ]
  },
  {
   "cell_type": "code",
   "execution_count": 24,
   "id": "4feaaf3f-030f-4775-bd0c-0dd3a33def7f",
   "metadata": {},
   "outputs": [],
   "source": [
    "os.mkdir('Leave_letter_directory')"
   ]
  },
  {
   "cell_type": "code",
   "execution_count": 28,
   "id": "d8dc4e5d-95dc-42ad-adb3-b70943af12fa",
   "metadata": {},
   "outputs": [],
   "source": [
    "my_leave_letter_2 = open('Leave_letter_directory/Leave_letter_in_dir.txt')"
   ]
  },
  {
   "cell_type": "code",
   "execution_count": 36,
   "id": "d0afc4e2-b9fb-4633-9540-cd3c298a0e8d",
   "metadata": {},
   "outputs": [
    {
     "name": "stdout",
     "output_type": "stream",
     "text": [
      "No such path\n"
     ]
    }
   ],
   "source": [
    "if os.path.exists('Leave_letter_directory/Leave_letter_in_di2r.txt'):\n",
    "    with open('Leave_letter_directory/Leave_letter_in_dir.txt') as file:\n",
    "        print(file.read())\n",
    "else:\n",
    "    print('No such path')"
   ]
  },
  {
   "cell_type": "code",
   "execution_count": 39,
   "id": "2b4f6e92-d1f2-4283-a98d-e33229a20cd7",
   "metadata": {},
   "outputs": [
    {
     "data": {
      "text/plain": [
       "False"
      ]
     },
     "execution_count": 39,
     "metadata": {},
     "output_type": "execute_result"
    }
   ],
   "source": [
    "os.path.isdir('Leave_letter_directory/Leave_letter_in_dir.txt')"
   ]
  },
  {
   "cell_type": "markdown",
   "id": "1f5f99bc-7ff4-4030-b919-1f481ccfa7c5",
   "metadata": {},
   "source": [
    "# File writing"
   ]
  },
  {
   "cell_type": "code",
   "execution_count": 1,
   "id": "0426eee4-90f7-4434-b461-40ebed7b3a8b",
   "metadata": {},
   "outputs": [],
   "source": [
    "file = open('love_letter.txt', 'w')"
   ]
  },
  {
   "cell_type": "code",
   "execution_count": 66,
   "id": "469ee362-1956-456b-aec9-5fa3814d24b1",
   "metadata": {},
   "outputs": [
    {
     "data": {
      "text/plain": [
       "105"
      ]
     },
     "execution_count": 66,
     "metadata": {},
     "output_type": "execute_result"
    }
   ],
   "source": [
    "file.write('Nan una virumbala, nee alagha irukenu nenaikala, ana idellam nanduthudumonu bayaama iruku, yosichu sollu!')"
   ]
  },
  {
   "cell_type": "code",
   "execution_count": 67,
   "id": "68e3c3b0-7733-439f-b06e-5de69b68c3bb",
   "metadata": {},
   "outputs": [
    {
     "name": "stdout",
     "output_type": "stream",
     "text": [
      "Nan una virumbala, nee alagha irukenu nenaikala, ana idellam nanduthudumonu bayaama iruku, yosichu sollu!Are u okay babe!I love uI miss uI love u  I miss unesikalanesikalanesikalaNan una virumbala, nee alagha irukenu nenaikala, ana idellam nanduthudumonu bayaama iruku, yosichu sollu!\n"
     ]
    }
   ],
   "source": [
    "with open(\"love_letter.txt\", \"r\") as file:\n",
    "    print(file.read())"
   ]
  },
  {
   "cell_type": "markdown",
   "id": "f0dca353-6f37-4e19-aae3-c1379fe05cee",
   "metadata": {},
   "source": [
    "# File Updating"
   ]
  },
  {
   "cell_type": "code",
   "execution_count": 6,
   "id": "64510dae-885f-428c-a542-ef15c1659887",
   "metadata": {},
   "outputs": [],
   "source": [
    "file = open(\"love_letter.txt\", \"a\")"
   ]
  },
  {
   "cell_type": "code",
   "execution_count": 7,
   "id": "954383a8-6bd1-4fbe-a6c5-1654afb7c87e",
   "metadata": {},
   "outputs": [
    {
     "data": {
      "text/plain": [
       "16"
      ]
     },
     "execution_count": 7,
     "metadata": {},
     "output_type": "execute_result"
    }
   ],
   "source": [
    "file.write(\"Are u okay babe!\")"
   ]
  },
  {
   "cell_type": "code",
   "execution_count": 16,
   "id": "69112167-ba3a-4333-aad3-2b04a6fe60c8",
   "metadata": {},
   "outputs": [],
   "source": [
    "file = open(\"love_letter.txt\", \"a\")"
   ]
  },
  {
   "cell_type": "code",
   "execution_count": 17,
   "id": "04962359-fae4-4e75-9ebf-947e3a2d4311",
   "metadata": {},
   "outputs": [],
   "source": [
    "file.writelines(['I love u ', ' I miss u'])"
   ]
  },
  {
   "cell_type": "code",
   "execution_count": 20,
   "id": "3408a61c-eb1a-428d-8340-a6cc65108aa8",
   "metadata": {},
   "outputs": [],
   "source": [
    "file = open(\"love_letter_2.txt\", \"x\")"
   ]
  },
  {
   "cell_type": "markdown",
   "id": "af802799-0c04-4614-9a7e-8dad41fa3858",
   "metadata": {},
   "source": [
    "# File closing"
   ]
  },
  {
   "cell_type": "code",
   "execution_count": 29,
   "id": "cba336b4-12a2-4bbc-974e-62f05fe100bf",
   "metadata": {},
   "outputs": [],
   "source": [
    "file.close()"
   ]
  },
  {
   "cell_type": "code",
   "execution_count": 30,
   "id": "96fcbc52-44e1-4403-aa55-52be54a04a28",
   "metadata": {},
   "outputs": [
    {
     "data": {
      "text/plain": [
       "True"
      ]
     },
     "execution_count": 30,
     "metadata": {},
     "output_type": "execute_result"
    }
   ],
   "source": [
    "file.closed"
   ]
  },
  {
   "cell_type": "code",
   "execution_count": 31,
   "id": "852296d5-e00c-4ea1-ac0c-134afeb8ce56",
   "metadata": {},
   "outputs": [
    {
     "ename": "ValueError",
     "evalue": "I/O operation on closed file.",
     "output_type": "error",
     "traceback": [
      "\u001b[1;31m---------------------------------------------------------------------------\u001b[0m",
      "\u001b[1;31mValueError\u001b[0m                                Traceback (most recent call last)",
      "Cell \u001b[1;32mIn[31], line 1\u001b[0m\n\u001b[1;32m----> 1\u001b[0m \u001b[43mfile\u001b[49m\u001b[38;5;241;43m.\u001b[39;49m\u001b[43mread\u001b[49m\u001b[43m(\u001b[49m\u001b[43m)\u001b[49m\n",
      "\u001b[1;31mValueError\u001b[0m: I/O operation on closed file."
     ]
    }
   ],
   "source": [
    "file.read()"
   ]
  },
  {
   "cell_type": "markdown",
   "id": "7680f4b2-e1ee-4861-9cb8-a093eb9924bc",
   "metadata": {},
   "source": [
    "# File deleting"
   ]
  },
  {
   "cell_type": "code",
   "execution_count": 33,
   "id": "48541063-4a52-4375-a754-d130e1aa2375",
   "metadata": {},
   "outputs": [],
   "source": [
    "import os\n",
    "os.remove('Leave_letter.txt')"
   ]
  },
  {
   "cell_type": "code",
   "execution_count": 34,
   "id": "b2932c7c-d8bc-46ab-a55d-0375a40cd472",
   "metadata": {},
   "outputs": [
    {
     "data": {
      "text/plain": [
       "['.ipynb_checkpoints',\n",
       " 'File_handling_python.ipynb',\n",
       " 'Leave_letter_directory',\n",
       " 'love_letter.txt',\n",
       " 'love_letter_2.txt']"
      ]
     },
     "execution_count": 34,
     "metadata": {},
     "output_type": "execute_result"
    }
   ],
   "source": [
    "os.listdir('.')"
   ]
  },
  {
   "cell_type": "markdown",
   "id": "80cd274d-5bd4-4fdd-a29a-81c233bd67fb",
   "metadata": {},
   "source": [
    "# Seek file"
   ]
  },
  {
   "cell_type": "code",
   "execution_count": 81,
   "id": "bd2f1bb4-19d4-485e-ada2-9177b6cc95e8",
   "metadata": {},
   "outputs": [],
   "source": [
    "f = open('love_letter.txt')"
   ]
  },
  {
   "cell_type": "code",
   "execution_count": 82,
   "id": "dc8c4dad-ba93-43a7-85c3-2f7e306ffa00",
   "metadata": {},
   "outputs": [
    {
     "data": {
      "text/plain": [
       "'okokuna virumbala, nee alagha irukenu nenaikala, ana idellam nanduthudumonu bayaama iruku, yosichu sollu!Are u okay babe!I love u I miss u I love u'"
      ]
     },
     "execution_count": 82,
     "metadata": {},
     "output_type": "execute_result"
    }
   ],
   "source": [
    "f.read()"
   ]
  },
  {
   "cell_type": "code",
   "execution_count": 73,
   "id": "f6942fbd-146a-4e2a-a2bf-62f118e94708",
   "metadata": {},
   "outputs": [
    {
     "data": {
      "text/plain": [
       "8"
      ]
     },
     "execution_count": 73,
     "metadata": {},
     "output_type": "execute_result"
    }
   ],
   "source": [
    "f.seek(8)"
   ]
  },
  {
   "cell_type": "code",
   "execution_count": 80,
   "id": "9258e51e-8773-434b-87c3-eed27cddf1d8",
   "metadata": {},
   "outputs": [
    {
     "data": {
      "text/plain": [
       "''"
      ]
     },
     "execution_count": 80,
     "metadata": {},
     "output_type": "execute_result"
    }
   ],
   "source": [
    "f.read()"
   ]
  },
  {
   "cell_type": "code",
   "execution_count": 78,
   "id": "219ea9b3-c3c0-4d72-9741-e9060c84148b",
   "metadata": {},
   "outputs": [
    {
     "data": {
      "text/plain": [
       "4"
      ]
     },
     "execution_count": 78,
     "metadata": {},
     "output_type": "execute_result"
    }
   ],
   "source": [
    "f.write(\"okok\")"
   ]
  },
  {
   "cell_type": "markdown",
   "id": "ce52c8e8-9e37-4290-93dc-53471e30b068",
   "metadata": {},
   "source": [
    "# Error Handling"
   ]
  },
  {
   "cell_type": "markdown",
   "id": "b03dd871-bcb4-41fd-99a4-7314ce92f072",
   "metadata": {},
   "source": [
    "## try-except"
   ]
  },
  {
   "cell_type": "code",
   "execution_count": 4,
   "id": "b1f04448-c5c1-40e9-aaab-71715681e9d6",
   "metadata": {},
   "outputs": [
    {
     "ename": "FileNotFoundError",
     "evalue": "[Errno 2] No such file or directory: 'cover_letter.txt'",
     "output_type": "error",
     "traceback": [
      "\u001b[1;31m---------------------------------------------------------------------------\u001b[0m",
      "\u001b[1;31mFileNotFoundError\u001b[0m                         Traceback (most recent call last)",
      "Cell \u001b[1;32mIn[4], line 1\u001b[0m\n\u001b[1;32m----> 1\u001b[0m file \u001b[38;5;241m=\u001b[39m \u001b[38;5;28;43mopen\u001b[39;49m\u001b[43m(\u001b[49m\u001b[38;5;124;43m'\u001b[39;49m\u001b[38;5;124;43mcover_letter.txt\u001b[39;49m\u001b[38;5;124;43m'\u001b[39;49m\u001b[43m)\u001b[49m\n",
      "File \u001b[1;32m~\\anaconda3\\envs\\myenv\\lib\\site-packages\\IPython\\core\\interactiveshell.py:324\u001b[0m, in \u001b[0;36m_modified_open\u001b[1;34m(file, *args, **kwargs)\u001b[0m\n\u001b[0;32m    317\u001b[0m \u001b[38;5;28;01mif\u001b[39;00m file \u001b[38;5;129;01min\u001b[39;00m {\u001b[38;5;241m0\u001b[39m, \u001b[38;5;241m1\u001b[39m, \u001b[38;5;241m2\u001b[39m}:\n\u001b[0;32m    318\u001b[0m     \u001b[38;5;28;01mraise\u001b[39;00m \u001b[38;5;167;01mValueError\u001b[39;00m(\n\u001b[0;32m    319\u001b[0m         \u001b[38;5;124mf\u001b[39m\u001b[38;5;124m\"\u001b[39m\u001b[38;5;124mIPython won\u001b[39m\u001b[38;5;124m'\u001b[39m\u001b[38;5;124mt let you open fd=\u001b[39m\u001b[38;5;132;01m{\u001b[39;00mfile\u001b[38;5;132;01m}\u001b[39;00m\u001b[38;5;124m by default \u001b[39m\u001b[38;5;124m\"\u001b[39m\n\u001b[0;32m    320\u001b[0m         \u001b[38;5;124m\"\u001b[39m\u001b[38;5;124mas it is likely to crash IPython. If you know what you are doing, \u001b[39m\u001b[38;5;124m\"\u001b[39m\n\u001b[0;32m    321\u001b[0m         \u001b[38;5;124m\"\u001b[39m\u001b[38;5;124myou can use builtins\u001b[39m\u001b[38;5;124m'\u001b[39m\u001b[38;5;124m open.\u001b[39m\u001b[38;5;124m\"\u001b[39m\n\u001b[0;32m    322\u001b[0m     )\n\u001b[1;32m--> 324\u001b[0m \u001b[38;5;28;01mreturn\u001b[39;00m io_open(file, \u001b[38;5;241m*\u001b[39margs, \u001b[38;5;241m*\u001b[39m\u001b[38;5;241m*\u001b[39mkwargs)\n",
      "\u001b[1;31mFileNotFoundError\u001b[0m: [Errno 2] No such file or directory: 'cover_letter.txt'"
     ]
    }
   ],
   "source": [
    "file = open('cover_letter.txt')"
   ]
  },
  {
   "cell_type": "code",
   "execution_count": 10,
   "id": "1edae5e9-2611-43c8-8ffe-96d726694c35",
   "metadata": {},
   "outputs": [
    {
     "name": "stdout",
     "output_type": "stream",
     "text": [
      "execution ends here [Errno 2] No such file or directory: 'cover_letter.txt'\n"
     ]
    }
   ],
   "source": [
    "try: \n",
    "    file = open('cover_letter.txt')\n",
    "except FileNotFoundError as ex:\n",
    "    print('execution ends here', ex) "
   ]
  },
  {
   "cell_type": "markdown",
   "id": "6e5f9a76-f3c1-4279-b3b5-8ad300fc7bab",
   "metadata": {},
   "source": [
    "## More than one error"
   ]
  },
  {
   "cell_type": "code",
   "execution_count": 11,
   "id": "c58578b5-46e1-41c8-a732-97770566bcbe",
   "metadata": {},
   "outputs": [
    {
     "ename": "NameError",
     "evalue": "name 'a' is not defined",
     "output_type": "error",
     "traceback": [
      "\u001b[1;31m---------------------------------------------------------------------------\u001b[0m",
      "\u001b[1;31mNameError\u001b[0m                                 Traceback (most recent call last)",
      "Cell \u001b[1;32mIn[11], line 1\u001b[0m\n\u001b[1;32m----> 1\u001b[0m \u001b[38;5;28mprint\u001b[39m(\u001b[43ma\u001b[49m)\n",
      "\u001b[1;31mNameError\u001b[0m: name 'a' is not defined"
     ]
    }
   ],
   "source": [
    "print(a)"
   ]
  },
  {
   "cell_type": "code",
   "execution_count": 12,
   "id": "897eb228-68f0-4252-8929-2ab2354646a1",
   "metadata": {},
   "outputs": [
    {
     "name": "stdout",
     "output_type": "stream",
     "text": [
      "execution ends here name 'a' is not defined\n"
     ]
    }
   ],
   "source": [
    "try: \n",
    "    # file = open('cover_letter.txt')\n",
    "    print(a)\n",
    "except FileNotFoundError as ex:\n",
    "    print('execution ends here', ex) \n",
    "except NameError as ex2:\n",
    "    print('execution ends here', ex2) "
   ]
  },
  {
   "cell_type": "markdown",
   "id": "09a870c6-3544-4a60-83af-586c0a72086d",
   "metadata": {},
   "source": [
    "## No error - try success"
   ]
  },
  {
   "cell_type": "code",
   "execution_count": 15,
   "id": "24490774-e0ee-4c96-a1ee-6011983d3c64",
   "metadata": {},
   "outputs": [
    {
     "name": "stdout",
     "output_type": "stream",
     "text": [
      "success!\n"
     ]
    }
   ],
   "source": [
    "try: \n",
    "    file = open('love_letter.txt')\n",
    "    # print(a)\n",
    "except FileNotFoundError as ex:\n",
    "    print('execution ends here', ex) \n",
    "except NameError as ex2:\n",
    "    print('execution ends here', ex2) \n",
    "else:\n",
    "    print('success!')"
   ]
  },
  {
   "cell_type": "markdown",
   "id": "1b648845-acad-4314-94f2-ad609f9c5578",
   "metadata": {},
   "source": [
    "## Finally block - dont bother the 'try' block"
   ]
  },
  {
   "cell_type": "code",
   "execution_count": 17,
   "id": "bd00a972-cc9f-4dd9-9432-a9948139029b",
   "metadata": {},
   "outputs": [
    {
     "name": "stdout",
     "output_type": "stream",
     "text": [
      "execution ends here [Errno 2] No such file or directory: 'cover_letter.txt'\n",
      "the end\n"
     ]
    }
   ],
   "source": [
    "try: \n",
    "    file = open('cover_letter.txt')\n",
    "    # print(a)\n",
    "except FileNotFoundError as ex:\n",
    "    print('execution ends here', ex) \n",
    "except NameError as ex2:\n",
    "    print('execution ends here', ex2) \n",
    "else:\n",
    "    print('success!')\n",
    "finally:\n",
    "    file.close()\n",
    "    print(\"the end\")"
   ]
  },
  {
   "cell_type": "code",
   "execution_count": null,
   "id": "aa0ec0e6-abec-4a15-9805-9c605e7cabac",
   "metadata": {},
   "outputs": [],
   "source": []
  }
 ],
 "metadata": {
  "kernelspec": {
   "display_name": "Python 3 (ipykernel)",
   "language": "python",
   "name": "python3"
  },
  "language_info": {
   "codemirror_mode": {
    "name": "ipython",
    "version": 3
   },
   "file_extension": ".py",
   "mimetype": "text/x-python",
   "name": "python",
   "nbconvert_exporter": "python",
   "pygments_lexer": "ipython3",
   "version": "3.10.14"
  }
 },
 "nbformat": 4,
 "nbformat_minor": 5
}
